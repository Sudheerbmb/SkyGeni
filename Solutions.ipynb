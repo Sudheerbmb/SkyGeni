{
 "cells": [
  {
   "cell_type": "code",
   "execution_count": null,
   "metadata": {},
   "outputs": [],
   "source": [
    "# 1.\tHow many finance lending and blockchain clients does the organization have?\n",
    "# 2.\tWhich industry in the organization has the highest renewal rate?\n",
    "# 3.\tWhat was the average inflation rate when their subscriptions were renewed?\n",
    "# 4.\tWhat is the median amount paid each year for all payment methods? "
   ]
  },
  {
   "cell_type": "code",
   "execution_count": 4,
   "metadata": {},
   "outputs": [
    {
     "name": "stdout",
     "output_type": "stream",
     "text": [
      "Unique Finance Lending organizations: 22\n",
      "Unique Blockchain organizations: 0\n"
     ]
    }
   ],
   "source": [
    "import pandas as pd\n",
    "\n",
    "# Load the data\n",
    "df = pd.read_csv('industry_client_details.csv')  # Replace with your actual file name\n",
    "\n",
    "# Filter and count unique organizations for Finance Lending\n",
    "finance_count = df[df['industry'] == 'Finance Lending']['client_id'].nunique()\n",
    "\n",
    "# Filter and count unique organizations for Blockchain\n",
    "blockchain_count = df[df['industry'] == 'Blockchain']['client_id'].nunique()\n",
    "\n",
    "print(\"Unique Finance Lending organizations:\", finance_count)\n",
    "print(\"Unique Blockchain organizations:\", blockchain_count)\n"
   ]
  },
  {
   "cell_type": "code",
   "execution_count": null,
   "metadata": {},
   "outputs": [],
   "source": []
  },
  {
   "cell_type": "code",
   "execution_count": null,
   "metadata": {},
   "outputs": [],
   "source": []
  }
 ],
 "metadata": {
  "kernelspec": {
   "display_name": "Python 3",
   "language": "python",
   "name": "python3"
  },
  "language_info": {
   "codemirror_mode": {
    "name": "ipython",
    "version": 3
   },
   "file_extension": ".py",
   "mimetype": "text/x-python",
   "name": "python",
   "nbconvert_exporter": "python",
   "pygments_lexer": "ipython3",
   "version": "3.12.10"
  }
 },
 "nbformat": 4,
 "nbformat_minor": 2
}
